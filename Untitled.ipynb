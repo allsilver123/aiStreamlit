{
 "cells": [
  {
   "cell_type": "code",
   "execution_count": 15,
   "id": "03fb5992",
   "metadata": {
    "scrolled": false
   },
   "outputs": [
    {
     "name": "stdout",
     "output_type": "stream",
     "text": [
      "1/1 [==============================] - 0s 291ms/step\n",
      "Class: 3 롱패딩 6도 이하\n",
      "Confidence score: 0.9934683\n"
     ]
    }
   ],
   "source": [
    "\n",
    "\n"
   ]
  },
  {
   "cell_type": "code",
   "execution_count": 16,
   "id": "3d60bad4",
   "metadata": {},
   "outputs": [],
   "source": [
    "import streamlit as st\n",
    "\n",
    "st.title(\"Streamlit Test\")\n",
    "\n",
    "input_user_name = st.text_input(label=\"User Name\", value=\"default value\")\n",
    "radio_gender = st.radio(label=\"Gender\", options=[\"Male\", \"Female\"])\n",
    "check_1 = st.checkbox(label=\"agree\", value=False)\n",
    "memo = st.text_area(label=\"memo\", value=\"\")\n",
    "\n",
    "if st.button(\"Confirm\"):\n",
    "    con = st.container()\n",
    "    con.caption(\"Result\")\n",
    "    con.write(f\"User Name is {str(input_user_name)}\")\n",
    "    con.write(str(radio_gender))\n",
    "    con.write(f\"agree : {check_1}\")\n",
    "    con.write(f\"memo : {str(memo)}\")"
   ]
  },
  {
   "cell_type": "code",
   "execution_count": null,
   "id": "75be57a0",
   "metadata": {},
   "outputs": [],
   "source": []
  }
 ],
 "metadata": {
  "kernelspec": {
   "display_name": "Python 3 (ipykernel)",
   "language": "python",
   "name": "python3"
  },
  "language_info": {
   "codemirror_mode": {
    "name": "ipython",
    "version": 3
   },
   "file_extension": ".py",
   "mimetype": "text/x-python",
   "name": "python",
   "nbconvert_exporter": "python",
   "pygments_lexer": "ipython3",
   "version": "3.9.13"
  }
 },
 "nbformat": 4,
 "nbformat_minor": 5
}
